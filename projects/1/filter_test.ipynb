{
 "cells": [
  {
   "cell_type": "code",
   "execution_count": null,
   "metadata": {},
   "outputs": [],
   "source": [
    "#!/opt/conda/envs/dsenv/bin/python\n",
    "\n",
    "import sys\n",
    "import os\n",
    "from glob import glob\n",
    "import logging\n",
    "\n",
    "sys.path.append('.')\n",
    "from model import fields\n",
    "\n",
    "fields.remove('label')\n",
    "#\n",
    "# Init the logger\n",
    "#\n",
    "logging.basicConfig(level=logging.DEBUG)\n",
    "logging.info(\"CURRENT_DIR {}\".format(os.getcwd()))\n",
    "logging.info(\"SCRIPT CALLED AS {}\".format(sys.argv[0]))\n",
    "logging.info(\"ARGS {}\".format(sys.argv[1:]))\n",
    "\n",
    "#\n",
    "# import the filter\n",
    "#\n",
    "filter_cond_files = glob('filter_cond*.py')\n",
    "logging.info(f\"FILTERS {filter_cond_files}\")\n",
    "\n",
    "if len(filter_cond_files) != 1:\n",
    "    logging.critical(\"Must supply exactly one filter\")\n",
    "    sys.exit(1)\n",
    "\n",
    "exec(open(filter_cond_files[0]).read())\n",
    "\n",
    "#\n",
    "# dataset fields\n",
    "#\n",
    "#fields = \"\"\"doc_id,hotel_name,hotel_url,street,city,state,country,zip,class,price,\n",
    "#num_reviews,CLEANLINESS,ROOM,SERVICE,LOCATION,VALUE,COMFORT,overall_ratingsource\"\"\".replace(\"\\n\",'').split(\",\")\n",
    "\n",
    "#\n",
    "# Optional argument\n",
    "# If +field option is given, output the id (always first record) and the given field\n",
    "# if -field is given, output all but the given field\n",
    "#\n",
    "\n",
    "if len(sys.argv) == 1:\n",
    "  #by default print all fields\n",
    "  outfields = fields\n",
    "else:\n",
    "  op, field = sys.argv[1][0], sys.argv[1][1:]\n",
    "  logging.info(f\"OP {op}\")\n",
    "  logging.info(f\"FIELD {field}\")\n",
    "\n",
    "  if not op in \"+-\" or not field in fields:\n",
    "    logging.critical(\"The optional argument must start with + or - followed by a valid field\")\n",
    "    sys.exit(1)\n",
    "  elif op == '+':\n",
    "    outfields = [fields[0], field]\n",
    "  else:\n",
    "    outfields = list(fields) # like deepcopy, but on the first level only!\n",
    "    outfields.remove(field)\n",
    "\n",
    "\n",
    "\n",
    "for line in sys.stdin:\n",
    "    # skip header\n",
    "    if line.startswith(fields[0]):\n",
    "        continue\n",
    "\n",
    "    #unpack into a tuple/dict\n",
    "    values = line.rstrip().split('\\t')\n",
    "    ad_record = dict(zip(fields, values)) #Hotel(values)\n",
    "\n",
    "    #apply filter conditions\n",
    "    if filter_cond(ad_record):\n",
    "        output = \"\\t\".join([ad_record[x] for x in outfields])\n",
    "        print(output)\n"
   ]
  },
  {
   "cell_type": "code",
   "execution_count": 17,
   "metadata": {},
   "outputs": [],
   "source": [
    "def filter_cond(line_dict):\n",
    "    \"\"\"Filter function\n",
    "    Takes a dict with field names as argument\n",
    "    Returns True if conditions are satisfied\n",
    "    \"\"\"\n",
    "    cond_match = False if line_dict[\"if1\"] == '' else ((int(line_dict[\"if1\"]) > 20) & (int(line_dict[\"if1\"]) < 40)) \n",
    "    return True if cond_match else False"
   ]
  },
  {
   "cell_type": "code",
   "execution_count": null,
   "metadata": {},
   "outputs": [],
   "source": [
    "projects/1/filter.sh projects/1/filter.py,projects/1/filter_cond.py,projects/1/model.py /datasets/criteo_valid_large_features filtered.csv filter.py\n",
    "\n",
    "\n"
   ]
  },
  {
   "cell_type": "code",
   "execution_count": 1,
   "metadata": {},
   "outputs": [],
   "source": [
    "from model import fields"
   ]
  },
  {
   "cell_type": "code",
   "execution_count": 2,
   "metadata": {},
   "outputs": [],
   "source": [
    "fields.remove('label')"
   ]
  },
  {
   "cell_type": "code",
   "execution_count": 4,
   "metadata": {},
   "outputs": [],
   "source": [
    "path = '/home/users/ValentinMSU17/ozon-masters-bigdata/filter_test'"
   ]
  },
  {
   "cell_type": "code",
   "execution_count": 19,
   "metadata": {},
   "outputs": [],
   "source": [
    "outfields = fields\n",
    "\n",
    "with open(path, 'r') as f:\n",
    "    line = f.readline()\n",
    "    while line:\n",
    "        #print(line)\n",
    "        values = line.rstrip().split('\\t')\n",
    "        ad_record = dict(zip(fields, values)) #Hotel(values)\n",
    "\n",
    "        #apply filter conditions\n",
    "        if filter_cond(ad_record):\n",
    "            output = \"\\t\".join([ad_record[x] for x in outfields])\n",
    "            print(output)\n",
    "        line = f.readline()"
   ]
  },
  {
   "cell_type": "code",
   "execution_count": 14,
   "metadata": {},
   "outputs": [
    {
     "ename": "ValueError",
     "evalue": "invalid literal for int() with base 10: ''",
     "output_type": "error",
     "traceback": [
      "\u001b[0;31m---------------------------------------------------------------------------\u001b[0m",
      "\u001b[0;31mValueError\u001b[0m                                Traceback (most recent call last)",
      "\u001b[0;32m<ipython-input-14-8b0c8222d2c4>\u001b[0m in \u001b[0;36m<module>\u001b[0;34m\u001b[0m\n\u001b[0;32m----> 1\u001b[0;31m \u001b[0mint\u001b[0m\u001b[0;34m(\u001b[0m\u001b[0mad_record\u001b[0m\u001b[0;34m[\u001b[0m\u001b[0;34m\"if1\"\u001b[0m\u001b[0;34m]\u001b[0m\u001b[0;34m)\u001b[0m \u001b[0;34m>\u001b[0m \u001b[0;36m20\u001b[0m\u001b[0;34m\u001b[0m\u001b[0;34m\u001b[0m\u001b[0m\n\u001b[0m",
      "\u001b[0;31mValueError\u001b[0m: invalid literal for int() with base 10: ''"
     ]
    }
   ],
   "source": [
    "int(ad_record[\"if1\"]) > 20"
   ]
  },
  {
   "cell_type": "code",
   "execution_count": 15,
   "metadata": {},
   "outputs": [
    {
     "data": {
      "text/plain": [
       "''"
      ]
     },
     "execution_count": 15,
     "metadata": {},
     "output_type": "execute_result"
    }
   ],
   "source": [
    "ad_record[\"if1\"]"
   ]
  },
  {
   "cell_type": "code",
   "execution_count": 9,
   "metadata": {},
   "outputs": [],
   "source": [
    "ad_record = dict(zip(fields, values))"
   ]
  },
  {
   "cell_type": "code",
   "execution_count": 10,
   "metadata": {},
   "outputs": [
    {
     "data": {
      "text/plain": [
       "{'id': '70809833',\n",
       " 'if1': '40',\n",
       " 'if2': '19',\n",
       " 'if3': '',\n",
       " 'if4': '30',\n",
       " 'if5': '8',\n",
       " 'if6': '0',\n",
       " 'if7': '0',\n",
       " 'if8': '41',\n",
       " 'if9': '2',\n",
       " 'if10': '0',\n",
       " 'if11': '1',\n",
       " 'if12': '7384',\n",
       " 'if13': '',\n",
       " 'cf1': 'ad98e872',\n",
       " 'cf2': 'fb1e95da',\n",
       " 'cf3': 'dff8c25a',\n",
       " 'cf4': 'baa22edd',\n",
       " 'cf5': '38e8e49d',\n",
       " 'cf6': '6fcd6dcb',\n",
       " 'cf7': 'c12b72eb',\n",
       " 'cf8': '3f8464ea',\n",
       " 'cf9': '25dd8f9a',\n",
       " 'cf10': '62da11e3',\n",
       " 'cf11': '14874876',\n",
       " 'cf12': '2dc365bb',\n",
       " 'cf13': 'a77a4a56',\n",
       " 'cf14': 'be4ee537',\n",
       " 'cf15': 'c375920d',\n",
       " 'cf16': '4cdc3efa',\n",
       " 'cf17': 'd20856aa',\n",
       " 'cf18': 'a1eb1511',\n",
       " 'cf19': 'cc7a7d35',\n",
       " 'cf20': '156cbe87',\n",
       " 'cf21': '96fbe197',\n",
       " 'cf22': '15562d5d',\n",
       " 'cf23': 'd3df7183',\n",
       " 'cf24': 'e59d5dec',\n",
       " 'cf25': '321935cd',\n",
       " 'cf26': 'e1be5ef2',\n",
       " 'day_number': 'day_7'}"
      ]
     },
     "execution_count": 10,
     "metadata": {},
     "output_type": "execute_result"
    }
   ],
   "source": [
    "ad_record"
   ]
  },
  {
   "cell_type": "code",
   "execution_count": null,
   "metadata": {},
   "outputs": [],
   "source": [
    "if filter_cond(ad_record):\n",
    "        output = \"\\t\".join([ad_record[x] for x in outfields])\n",
    "        print(output)"
   ]
  },
  {
   "cell_type": "code",
   "execution_count": 11,
   "metadata": {},
   "outputs": [
    {
     "data": {
      "text/plain": [
       "False"
      ]
     },
     "execution_count": 11,
     "metadata": {},
     "output_type": "execute_result"
    }
   ],
   "source": [
    "filter_cond(ad_record)"
   ]
  },
  {
   "cell_type": "code",
   "execution_count": 16,
   "metadata": {
    "scrolled": true
   },
   "outputs": [
    {
     "data": {
      "text/plain": [
       "['70809834',\n",
       " '',\n",
       " '10',\n",
       " '',\n",
       " '2',\n",
       " '3',\n",
       " '0',\n",
       " '1',\n",
       " '-1',\n",
       " '1',\n",
       " '0',\n",
       " '2',\n",
       " '5774',\n",
       " '',\n",
       " '65839842',\n",
       " '38ccbc8f',\n",
       " '330ce00c',\n",
       " 'df02c0aa',\n",
       " '729e35ab',\n",
       " '6fcd6dcb',\n",
       " 'fd13d94f',\n",
       " '038e402d',\n",
       " '2e4e821f',\n",
       " '7bab0c82',\n",
       " '4a17f680',\n",
       " '6d85a359',\n",
       " 'f4fc3c5e',\n",
       " '',\n",
       " '37de4a42',\n",
       " '',\n",
       " '',\n",
       " 'a1eb1511',\n",
       " '9512c20b',\n",
       " 'd7003867',\n",
       " 'e0346dff',\n",
       " '5efb86a8',\n",
       " '',\n",
       " 'f8dfa135',\n",
       " 'ff654802',\n",
       " 'b757e957',\n",
       " 'day_7']"
      ]
     },
     "execution_count": 16,
     "metadata": {},
     "output_type": "execute_result"
    }
   ],
   "source": [
    "values"
   ]
  },
  {
   "cell_type": "code",
   "execution_count": null,
   "metadata": {},
   "outputs": [],
   "source": []
  },
  {
   "cell_type": "code",
   "execution_count": null,
   "metadata": {},
   "outputs": [],
   "source": []
  },
  {
   "cell_type": "code",
   "execution_count": null,
   "metadata": {},
   "outputs": [],
   "source": [
    "projects/1/filter_predict.sh projects/1/filter.py,projects/1/predict.py,projects/1/filter_cond.py,1.joblib,projects/1/model.py /datasets/criteo_valid_large_features pred_with_filter filter.py predict.py\n"
   ]
  },
  {
   "cell_type": "code",
   "execution_count": null,
   "metadata": {},
   "outputs": [],
   "source": [
    "hadoop fs -cat pred_with_filter/part-* > pred_with_filter_cat\n",
    "\n",
    "projects/1/scorer_local.py /home/users/datasets/criteo_valid_large_filtered_labels  'http://head1:50070/webhdfs/v1/user/ValentinMSU17/pred_with_filter_cat?op=OPEN'\n"
   ]
  }
 ],
 "metadata": {
  "kernelspec": {
   "display_name": "dsenv",
   "language": "python",
   "name": "dsenv"
  },
  "language_info": {
   "codemirror_mode": {
    "name": "ipython",
    "version": 3
   },
   "file_extension": ".py",
   "mimetype": "text/x-python",
   "name": "python",
   "nbconvert_exporter": "python",
   "pygments_lexer": "ipython3",
   "version": "3.7.4"
  }
 },
 "nbformat": 4,
 "nbformat_minor": 2
}
