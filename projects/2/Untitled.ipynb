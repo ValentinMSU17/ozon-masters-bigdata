{
 "cells": [
  {
   "cell_type": "code",
   "execution_count": 2,
   "metadata": {},
   "outputs": [],
   "source": [
    "import os, sys\n",
    "import logging\n",
    "\n",
    "import pandas as pd\n",
    "import numpy as np\n",
    "from sklearn.model_selection import train_test_split\n",
    "from joblib import dump\n",
    "from model import model, fields"
   ]
  },
  {
   "cell_type": "code",
   "execution_count": 4,
   "metadata": {},
   "outputs": [
    {
     "data": {
      "text/plain": [
       "\"['id', 'label', 'if1', 'if2', 'if3', 'if4', 'if5', 'if6', 'if7', 'if8', 'if9', 'if10', 'if11', 'if12', 'if13', 'cf1', 'cf2', 'cf3', 'cf4', 'cf5', 'cf6', 'cf7', 'cf8', 'cf9', 'cf10', 'cf11', 'cf12', 'cf13', 'cf14', 'cf15', 'cf16', 'cf17', 'cf18', 'cf19', 'cf20', 'cf21', 'cf22', 'cf23', 'cf24', 'cf25', 'cf26', 'day_number']\""
      ]
     },
     "execution_count": 4,
     "metadata": {},
     "output_type": "execute_result"
    }
   ],
   "source": [
    "f'{fields}'"
   ]
  },
  {
   "cell_type": "code",
   "execution_count": 8,
   "metadata": {},
   "outputs": [
    {
     "name": "stdout",
     "output_type": "stream",
     "text": [
      "id int,\n",
      "label string,\n",
      "if1 int,\n",
      "if2 int,\n",
      "if3 int,\n",
      "if4 int,\n",
      "if5 int,\n",
      "if6 int,\n",
      "if7 int,\n",
      "if8 int,\n",
      "if9 int,\n",
      "if10 int,\n",
      "if11 int,\n",
      "if12 int,\n",
      "if13 int,\n",
      "cf1 string,\n",
      "cf2 string,\n",
      "cf3 string,\n",
      "cf4 string,\n",
      "cf5 string,\n",
      "cf6 string,\n",
      "cf7 string,\n",
      "cf8 string,\n",
      "cf9 string,\n",
      "cf10 string,\n",
      "cf11 string,\n",
      "cf12 string,\n",
      "cf13 string,\n",
      "cf14 string,\n",
      "cf15 string,\n",
      "cf16 string,\n",
      "cf17 string,\n",
      "cf18 string,\n",
      "cf19 string,\n",
      "cf20 string,\n",
      "cf21 string,\n",
      "cf22 string,\n",
      "cf23 string,\n",
      "cf24 string,\n",
      "cf25 string,\n",
      "cf26 string,\n",
      "day_number string,\n"
     ]
    }
   ],
   "source": [
    "for item in fields:\n",
    "    if item.startswith('i'):\n",
    "        print(f'{item} int,')\n",
    "    else:\n",
    "        print(f'{item} string,')"
   ]
  },
  {
   "cell_type": "code",
   "execution_count": null,
   "metadata": {},
   "outputs": [],
   "source": []
  }
 ],
 "metadata": {
  "kernelspec": {
   "display_name": "dsenv",
   "language": "python",
   "name": "dsenv"
  },
  "language_info": {
   "codemirror_mode": {
    "name": "ipython",
    "version": 3
   },
   "file_extension": ".py",
   "mimetype": "text/x-python",
   "name": "python",
   "nbconvert_exporter": "python",
   "pygments_lexer": "ipython3",
   "version": "3.7.4"
  }
 },
 "nbformat": 4,
 "nbformat_minor": 2
}
