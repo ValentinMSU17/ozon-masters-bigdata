{
 "cells": [
  {
   "cell_type": "code",
   "execution_count": 3,
   "metadata": {},
   "outputs": [],
   "source": [
    "#!/opt/conda/envs/dsenv/bin/python\n",
    "\n",
    "import sys, os\n",
    "import logging\n",
    "from joblib import load\n",
    "import pandas as pd\n",
    "import numpy as np\n",
    "\n",
    "sys.path.append('.')\n",
    "from model import fields"
   ]
  },
  {
   "cell_type": "code",
   "execution_count": 2,
   "metadata": {
    "scrolled": true
   },
   "outputs": [
    {
     "ename": "NameError",
     "evalue": "name 'logging' is not defined",
     "output_type": "error",
     "traceback": [
      "\u001b[0;31m---------------------------------------------------------------------------\u001b[0m",
      "\u001b[0;31mNameError\u001b[0m                                 Traceback (most recent call last)",
      "\u001b[0;32m<ipython-input-2-afb15b3cdf08>\u001b[0m in \u001b[0;36m<module>\u001b[0;34m\u001b[0m\n\u001b[0;32m----> 1\u001b[0;31m \u001b[0mlogging\u001b[0m\u001b[0;34m.\u001b[0m\u001b[0mbasicConfig\u001b[0m\u001b[0;34m(\u001b[0m\u001b[0mlevel\u001b[0m\u001b[0;34m=\u001b[0m\u001b[0mlogging\u001b[0m\u001b[0;34m.\u001b[0m\u001b[0mDEBUG\u001b[0m\u001b[0;34m)\u001b[0m\u001b[0;34m\u001b[0m\u001b[0;34m\u001b[0m\u001b[0m\n\u001b[0m\u001b[1;32m      2\u001b[0m \u001b[0mlogging\u001b[0m\u001b[0;34m.\u001b[0m\u001b[0minfo\u001b[0m\u001b[0;34m(\u001b[0m\u001b[0;34m\"CURRENT_DIR {}\"\u001b[0m\u001b[0;34m.\u001b[0m\u001b[0mformat\u001b[0m\u001b[0;34m(\u001b[0m\u001b[0mos\u001b[0m\u001b[0;34m.\u001b[0m\u001b[0mgetcwd\u001b[0m\u001b[0;34m(\u001b[0m\u001b[0;34m)\u001b[0m\u001b[0;34m)\u001b[0m\u001b[0;34m)\u001b[0m\u001b[0;34m\u001b[0m\u001b[0;34m\u001b[0m\u001b[0m\n\u001b[1;32m      3\u001b[0m \u001b[0mlogging\u001b[0m\u001b[0;34m.\u001b[0m\u001b[0minfo\u001b[0m\u001b[0;34m(\u001b[0m\u001b[0;34m\"SCRIPT CALLED AS {}\"\u001b[0m\u001b[0;34m.\u001b[0m\u001b[0mformat\u001b[0m\u001b[0;34m(\u001b[0m\u001b[0msys\u001b[0m\u001b[0;34m.\u001b[0m\u001b[0margv\u001b[0m\u001b[0;34m[\u001b[0m\u001b[0;36m0\u001b[0m\u001b[0;34m]\u001b[0m\u001b[0;34m)\u001b[0m\u001b[0;34m)\u001b[0m\u001b[0;34m\u001b[0m\u001b[0;34m\u001b[0m\u001b[0m\n\u001b[1;32m      4\u001b[0m \u001b[0mlogging\u001b[0m\u001b[0;34m.\u001b[0m\u001b[0minfo\u001b[0m\u001b[0;34m(\u001b[0m\u001b[0;34m\"ARGS {}\"\u001b[0m\u001b[0;34m.\u001b[0m\u001b[0mformat\u001b[0m\u001b[0;34m(\u001b[0m\u001b[0msys\u001b[0m\u001b[0;34m.\u001b[0m\u001b[0margv\u001b[0m\u001b[0;34m[\u001b[0m\u001b[0;36m1\u001b[0m\u001b[0;34m:\u001b[0m\u001b[0;34m]\u001b[0m\u001b[0;34m)\u001b[0m\u001b[0;34m)\u001b[0m\u001b[0;34m\u001b[0m\u001b[0;34m\u001b[0m\u001b[0m\n",
      "\u001b[0;31mNameError\u001b[0m: name 'logging' is not defined"
     ]
    }
   ],
   "source": [
    "logging.basicConfig(level=logging.DEBUG)\n",
    "logging.info(\"CURRENT_DIR {}\".format(os.getcwd()))\n",
    "logging.info(\"SCRIPT CALLED AS {}\".format(sys.argv[0]))\n",
    "logging.info(\"ARGS {}\".format(sys.argv[1:]))"
   ]
  },
  {
   "cell_type": "code",
   "execution_count": 33,
   "metadata": {},
   "outputs": [],
   "source": [
    "model = load(\"1.joblib\")"
   ]
  },
  {
   "cell_type": "code",
   "execution_count": 5,
   "metadata": {},
   "outputs": [],
   "source": [
    "fields.remove('label')\n",
    "drop_columns = ['cf1', 'cf10', 'cf20', 'cf21', 'cf22'] + ['id', 'day_number']"
   ]
  },
  {
   "cell_type": "code",
   "execution_count": null,
   "metadata": {},
   "outputs": [],
   "source": [
    "for line in sys.stdin:\n",
    "    df_row = line.strip().split('\\t')\n",
    "    data_dict = dict(zip(fields, df_row))\n",
    "    for key in data_dict.keys"
   ]
  },
  {
   "cell_type": "code",
   "execution_count": 52,
   "metadata": {},
   "outputs": [],
   "source": [
    "with open('test_lines.txt', 'r') as f:\n",
    "    line = f.readline()"
   ]
  },
  {
   "cell_type": "code",
   "execution_count": 53,
   "metadata": {},
   "outputs": [
    {
     "data": {
      "text/plain": [
       "'75780732\\t1\\t106\\t6\\t2\\t5\\t12\\t0\\t0\\t15\\t2\\t1\\t10\\t2\\t322164ba\\t5d215288\\td4b637be\\t67ecc871\\tb13d7057\\t6fcd6dcb\\tf10ed6d4\\ta77d6062\\t25dd8f9a\\tc5a6323f\\t0c4bc0cb\\t12716184\\ta77a4a56\\ta90f90f1\\td6d40d86\\tfc1ec9da\\t753da5f3\\ta1eb1511\\t9512c20b\\t1d17e42a\\t4beca4d2\\t40e88c20\\t3ab3221c\\tf52b7cf4\\t30436bfc\\t2f33557c\\tday_7\\n'"
      ]
     },
     "execution_count": 53,
     "metadata": {},
     "output_type": "execute_result"
    }
   ],
   "source": [
    "line"
   ]
  },
  {
   "cell_type": "code",
   "execution_count": 54,
   "metadata": {},
   "outputs": [],
   "source": [
    "df_row = line.strip().split('\\t')\n",
    "data_dict = dict(zip(fields, df_row))\n",
    "for key in data_dict.keys():\n",
    "    if (data_dict[key] == '\\\\N') | (data_dict[key] == ''):\n",
    "        data_dict[key] = np.nan\n",
    "        continue\n",
    "    if key.startswith('i'):\n",
    "        data_dict[key] = int(data_dict[key])\n",
    "\n",
    "df = pd.DataFrame(data_dict, index=[0])\n",
    "ids = df['id']"
   ]
  },
  {
   "cell_type": "code",
   "execution_count": 68,
   "metadata": {},
   "outputs": [
    {
     "data": {
      "text/plain": [
       "'75780735\\t44\\t133\\t14\\t2\\t152\\t7\\t3\\t20\\t24\\t1\\t23\\t17\\t2\\tb4ace11f\\tb1d3d3f1\\tdc7927c8\\t5526d8cc\\te755064d\\t6fcd6dcb\\t67d7ccea\\t508ba7bb\\ta48e16ed\\t61a6f051\\t3c8f7b77\\t150dc5be\\t26bb0b02\\t521d9fcb\\tf9bcc0b4\\t70198717\\t75'"
      ]
     },
     "execution_count": 68,
     "metadata": {},
     "output_type": "execute_result"
    }
   ],
   "source": [
    "line"
   ]
  },
  {
   "cell_type": "code",
   "execution_count": 57,
   "metadata": {},
   "outputs": [],
   "source": [
    "df.drop(columns=drop_columns, inplace=True)"
   ]
  },
  {
   "cell_type": "code",
   "execution_count": 59,
   "metadata": {},
   "outputs": [],
   "source": [
    "pred = model.predict_proba(df)[:,1]"
   ]
  },
  {
   "cell_type": "code",
   "execution_count": 64,
   "metadata": {},
   "outputs": [
    {
     "name": "stdout",
     "output_type": "stream",
     "text": [
      "75780732 0.817398938046316\n"
     ]
    }
   ],
   "source": [
    "print(int(ids), pred[0])"
   ]
  },
  {
   "cell_type": "code",
   "execution_count": 69,
   "metadata": {},
   "outputs": [
    {
     "name": "stdout",
     "output_type": "stream",
     "text": [
      "0\n"
     ]
    },
    {
     "ename": "ValueError",
     "evalue": "invalid literal for int() with base 10: 'day_7'",
     "output_type": "error",
     "traceback": [
      "\u001b[0;31m---------------------------------------------------------------------------\u001b[0m",
      "\u001b[0;31mValueError\u001b[0m                                Traceback (most recent call last)",
      "\u001b[0;32m<ipython-input-69-2f98bba71018>\u001b[0m in \u001b[0;36m<module>\u001b[0;34m\u001b[0m\n\u001b[1;32m     12\u001b[0m                 \u001b[0;32mcontinue\u001b[0m\u001b[0;34m\u001b[0m\u001b[0;34m\u001b[0m\u001b[0m\n\u001b[1;32m     13\u001b[0m             \u001b[0;32mif\u001b[0m \u001b[0mkey\u001b[0m\u001b[0;34m.\u001b[0m\u001b[0mstartswith\u001b[0m\u001b[0;34m(\u001b[0m\u001b[0;34m'i'\u001b[0m\u001b[0;34m)\u001b[0m\u001b[0;34m:\u001b[0m\u001b[0;34m\u001b[0m\u001b[0;34m\u001b[0m\u001b[0m\n\u001b[0;32m---> 14\u001b[0;31m                 \u001b[0mdata_dict\u001b[0m\u001b[0;34m[\u001b[0m\u001b[0mkey\u001b[0m\u001b[0;34m]\u001b[0m \u001b[0;34m=\u001b[0m \u001b[0mint\u001b[0m\u001b[0;34m(\u001b[0m\u001b[0mdata_dict\u001b[0m\u001b[0;34m[\u001b[0m\u001b[0mkey\u001b[0m\u001b[0;34m]\u001b[0m\u001b[0;34m)\u001b[0m\u001b[0;34m\u001b[0m\u001b[0;34m\u001b[0m\u001b[0m\n\u001b[0m\u001b[1;32m     15\u001b[0m \u001b[0;34m\u001b[0m\u001b[0m\n\u001b[1;32m     16\u001b[0m         \u001b[0mdf\u001b[0m \u001b[0;34m=\u001b[0m \u001b[0mpd\u001b[0m\u001b[0;34m.\u001b[0m\u001b[0mDataFrame\u001b[0m\u001b[0;34m(\u001b[0m\u001b[0mdata_dict\u001b[0m\u001b[0;34m,\u001b[0m \u001b[0mindex\u001b[0m\u001b[0;34m=\u001b[0m\u001b[0;34m[\u001b[0m\u001b[0;36m0\u001b[0m\u001b[0;34m]\u001b[0m\u001b[0;34m)\u001b[0m\u001b[0;34m\u001b[0m\u001b[0;34m\u001b[0m\u001b[0m\n",
      "\u001b[0;31mValueError\u001b[0m: invalid literal for int() with base 10: 'day_7'"
     ]
    }
   ],
   "source": [
    "i=0\n",
    "\n",
    "with open('test_lines.txt', 'r') as f:\n",
    "    line = f.readline()\n",
    "    while line:\n",
    "        print(i)\n",
    "        df_row = line.strip().split('\\t')\n",
    "        data_dict = dict(zip(fields, df_row))\n",
    "        for key in data_dict.keys():\n",
    "            if (data_dict[key] == '\\\\N') | (data_dict[key] == ''):\n",
    "                data_dict[key] = np.nan\n",
    "                continue\n",
    "            if key.startswith('i'):\n",
    "                data_dict[key] = int(data_dict[key])\n",
    "\n",
    "        df = pd.DataFrame(data_dict, index=[0])\n",
    "        ids = df['id']\n",
    "        print(df)\n",
    "        df.drop(columns=drop_columns, inplace=True)\n",
    "        if (df['if1'][0] > 20) & (df['if1'][0] < 40):\n",
    "            pred = model.predict_proba(df)[:,1]\n",
    "            print(int(ids), pred[0])\n",
    "        line = f.readline()\n",
    "        i+=1"
   ]
  },
  {
   "cell_type": "code",
   "execution_count": 47,
   "metadata": {
    "scrolled": true
   },
   "outputs": [],
   "source": [
    "if (df['if1'][0] > 20) & (df['if1'][0] < 40):\n",
    "    print('!')"
   ]
  },
  {
   "cell_type": "code",
   "execution_count": 46,
   "metadata": {},
   "outputs": [
    {
     "data": {
      "text/plain": [
       "0    False\n",
       "Name: if1, dtype: bool"
      ]
     },
     "execution_count": 46,
     "metadata": {},
     "output_type": "execute_result"
    }
   ],
   "source": [
    "df['if1'] > 20"
   ]
  },
  {
   "cell_type": "code",
   "execution_count": 39,
   "metadata": {},
   "outputs": [
    {
     "name": "stdout",
     "output_type": "stream",
     "text": [
      "75276826\t\t79\t2\t53\t5\t11\t0\t1984\t2\t0\t1\t338\t2\t02566c4a\t0aaff82a\t1ab367ec\tf2463ffb\t729e35ab\t6fcd6dcb\t5e21d6b3\tdc8dd8a1\t2e4e821f\t66eae0d9\t75211e8d\t8bf20323\ta77a4a56\t\t62c3431f\t\t\tb8170bba\t139221a3\tf0f1bc62\t10dc69f3\t020eda73\t\t007c1d72\t30436bfc\tb757e957\tday_7\n",
      "!!"
     ]
    }
   ],
   "source": [
    "print(line, end='!!')"
   ]
  },
  {
   "cell_type": "code",
   "execution_count": 38,
   "metadata": {},
   "outputs": [
    {
     "name": "stdout",
     "output_type": "stream",
     "text": [
      "75276826\t\t79\t2\t53\t5\t11\t0\t1984\t2\t0\t1\t338\t2\t02566c4a\t0aaff82a\t1ab367ec\tf2463ffb\t729e35ab\t6fcd6dcb\t5e21d6b3\tdc8dd8a1\t2e4e821f\t66eae0d9\t75211e8d\t8bf20323\ta77a4a56\t\t62c3431f\t\t\tb8170bba\t139221a3\tf0f1bc62\t10dc69f3\t020eda73\t\t007c1d72\t30436bfc\tb757e957\tday_7\n",
      "\n"
     ]
    }
   ],
   "source": [
    "print(line)"
   ]
  },
  {
   "cell_type": "code",
   "execution_count": null,
   "metadata": {},
   "outputs": [],
   "source": []
  }
 ],
 "metadata": {
  "kernelspec": {
   "display_name": "dsenv",
   "language": "python",
   "name": "dsenv"
  },
  "language_info": {
   "codemirror_mode": {
    "name": "ipython",
    "version": 3
   },
   "file_extension": ".py",
   "mimetype": "text/x-python",
   "name": "python",
   "nbconvert_exporter": "python",
   "pygments_lexer": "ipython3",
   "version": "3.7.4"
  }
 },
 "nbformat": 4,
 "nbformat_minor": 2
}
